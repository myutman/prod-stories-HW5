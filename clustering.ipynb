{
 "cells": [
  {
   "cell_type": "code",
   "execution_count": 75,
   "id": "4bb7b250-4f17-441b-a3e1-458607195474",
   "metadata": {},
   "outputs": [],
   "source": [
    "import matplotlib.pyplot as plt\n",
    "\n",
    "import pandas as pd\n",
    "\n",
    "from sklearn.cluster import AgglomerativeClustering\n",
    "from sklearn.decomposition import PCA\n",
    "\n",
    "import torch\n",
    "\n",
    "from importlib import reload\n",
    "\n",
    "import clustering\n",
    "import model\n",
    "import train\n",
    "import utils.data\n",
    "\n",
    "reload(clustering)\n",
    "reload(utils.data)\n",
    "reload(model)\n",
    "reload(train)\n",
    "\n",
    "from clustering import get_cluster_centers, cosine_dist\n",
    "from model import FFN\n",
    "from train import train\n",
    "from utils.data import load_data_from_tsv"
   ]
  },
  {
   "cell_type": "code",
   "execution_count": 85,
   "id": "3f88151a-1358-4465-a37f-7c08eb8686e8",
   "metadata": {},
   "outputs": [
    {
     "data": {
      "text/plain": [
       "<All keys matched successfully>"
      ]
     },
     "execution_count": 85,
     "metadata": {},
     "output_type": "execute_result"
    }
   ],
   "source": [
    "ffn = FFN(128, 16, 4, 32)\n",
    "ffn.load_state_dict(torch.load(\"checkpoints/checkpoint_128_16_4_32_epoch=199_batch-size=8.cpkt\"))"
   ]
  },
  {
   "cell_type": "code",
   "execution_count": 86,
   "id": "a1ac31bf-3fb9-4854-8b09-b91b2c14c6bc",
   "metadata": {},
   "outputs": [],
   "source": [
    "train_df = load_data_from_tsv(\"dataset/train.tsv\")\n",
    "cluster_centers = get_cluster_centers(train_df, ffn)"
   ]
  },
  {
   "cell_type": "code",
   "execution_count": 87,
   "id": "d70495a4-5eb2-426d-b0d3-96af8a15c14d",
   "metadata": {},
   "outputs": [
    {
     "name": "stdout",
     "output_type": "stream",
     "text": [
      "Torus vs Torus\n",
      "Torus vs Cube\n",
      "Cone vs Cube\n",
      "Cube vs Cube\n",
      "Cone vs Cube\n",
      "Sphere vs Sphere\n",
      "Cube vs Cube\n",
      "Cone vs Sphere\n",
      "Cylinder vs Cube\n",
      "Cube vs Cube\n",
      "Cylinder vs Torus\n",
      "Cube vs Cube\n",
      "Cone vs Torus\n",
      "Sphere vs Sphere\n",
      "Cylinder vs Cube\n",
      "Cylinder vs Torus\n",
      "Torus vs Sphere\n",
      "Cone vs Torus\n",
      "Sphere vs Sphere\n",
      "Cube vs Cube\n",
      "Torus vs Torus\n",
      "Cube vs Cube\n",
      "Cone vs Cube\n",
      "Cube vs Cube\n",
      "Cube vs Cube\n",
      "Torus vs Cube\n",
      "Torus vs Cube\n",
      "Cylinder vs Cube\n",
      "Torus vs Cube\n",
      "Cone vs Sphere\n",
      "Torus vs Sphere\n",
      "Cone vs Cylinder\n",
      "Torus vs Sphere\n",
      "Torus vs Sphere\n",
      "Sphere vs Cube\n",
      "Sphere vs Cube\n",
      "Cube vs Cube\n",
      "Cube vs Cone\n",
      "Sphere vs Sphere\n",
      "Cylinder vs Cube\n",
      "Cube vs Cube\n",
      "Sphere vs Sphere\n",
      "Cylinder vs Cube\n",
      "Torus vs Cube\n",
      "Cone vs Cube\n",
      "Cone vs Cube\n",
      "Cone vs Cube\n",
      "Cube vs Cube\n",
      "Cone vs Torus\n",
      "Cone vs Cube\n",
      "accuracy=0.36\n"
     ]
    }
   ],
   "source": [
    "test_df = load_data_from_tsv(\"dataset/test.tsv\")\n",
    "test_embeddings = ffn(torch.stack(list(test_df[\"hist\"])))\n",
    "\n",
    "good = 0\n",
    "for name, embedding in zip(test_df[\"obj_name\"], test_embeddings):\n",
    "    items = list(cluster_centers.items())\n",
    "    keys = [key for key, _ in items]\n",
    "    dists = [float(cosine_dist(embedding, value)) for _, value in items]\n",
    "    cluster_name = keys[np.argmin(dists)]\n",
    "    print(f\"{name} vs {cluster_name}\")\n",
    "    good += (name == cluster_name)\n",
    "    \n",
    "print(f\"accuracy={good / len(test_df)}\")\n",
    "        "
   ]
  },
  {
   "cell_type": "code",
   "execution_count": 88,
   "id": "84ce772a-6ecb-4e0e-8052-e3ba0793b300",
   "metadata": {},
   "outputs": [],
   "source": [
    "test_embeddings_np = test_embeddings.detach().numpy()\n",
    "\n",
    "pca = PCA(n_components=2)\n",
    "pca.fit(test_embeddings_np)\n",
    "\n",
    "test_projections = test_embeddings_np @ pca.components_.T"
   ]
  },
  {
   "cell_type": "code",
   "execution_count": 89,
   "id": "127d9c22-1d17-4609-87c2-64d85b615481",
   "metadata": {},
   "outputs": [
    {
     "data": {
      "text/plain": [
       "<matplotlib.legend.Legend at 0x7feae9e25fd0>"
      ]
     },
     "execution_count": 89,
     "metadata": {},
     "output_type": "execute_result"
    },
    {
     "data": {
      "image/png": "[encoded data removed]",
      "text/plain": [
       "<Figure size 432x288 with 1 Axes>"
      ]
     },
     "metadata": {
      "needs_background": "light"
     },
     "output_type": "display_data"
    }
   ],
   "source": [
    "n_classes = 5\n",
    "aclust = AgglomerativeClustering(n_clusters=n_classes, affinity='cosine', linkage='complete')\n",
    "aclust.fit(test_embeddings_np)\n",
    "\n",
    "classes = [[] for i in range(n_classes)]\n",
    "\n",
    "for i in range(len(test_df)):\n",
    "    classes[aclust.labels_[i]].append(test_projections[i])\n",
    "\n",
    "for class_ in classes:\n",
    "    class_ = np.array(class_)\n",
    "    plt.scatter(class_[:, 0], class_[:, 1])\n",
    "\n",
    "plt.legend([f\"class {j}\" for j in range(n_classes)])"
   ]
  },
  {
   "cell_type": "code",
   "execution_count": 90,
   "id": "3b1d5237-ca8b-41d8-a3b7-837a772c7dd3",
   "metadata": {},
   "outputs": [
    {
     "name": "stdout",
     "output_type": "stream",
     "text": [
      "Class #0\n",
      "Torus\n",
      "Cone\n",
      "Cube\n",
      "Cone\n",
      "Cube\n",
      "Cylinder\n",
      "Cube\n",
      "Cube\n",
      "Cylinder\n",
      "Cube\n",
      "Cube\n",
      "Cone\n",
      "Cube\n",
      "Cube\n",
      "Torus\n",
      "Torus\n",
      "Cylinder\n",
      "Torus\n",
      "Sphere\n",
      "Sphere\n",
      "Cube\n",
      "Cylinder\n",
      "Cube\n",
      "Torus\n",
      "Cone\n",
      "Cone\n",
      "Cube\n",
      "Cone\n",
      "\n",
      "Class #1\n",
      "Torus\n",
      "Cylinder\n",
      "Cone\n",
      "Cone\n",
      "Torus\n",
      "Cone\n",
      "\n",
      "Class #2\n",
      "Cube\n",
      "\n",
      "Class #3\n",
      "Cylinder\n",
      "Cone\n",
      "\n",
      "Class #4\n",
      "Sphere\n",
      "Cone\n",
      "Sphere\n",
      "Cylinder\n",
      "Torus\n",
      "Sphere\n",
      "Cone\n",
      "Torus\n",
      "Torus\n",
      "Torus\n",
      "Sphere\n",
      "Sphere\n",
      "Cone\n",
      "\n"
     ]
    }
   ],
   "source": [
    "queries_classes = [[] for i in range(n_classes)]\n",
    "for i, query in enumerate(test_df[\"obj_name\"]):\n",
    "    queries_classes[aclust.labels_[i]].append(query)\n",
    "\n",
    "for i, queries_class in enumerate(queries_classes):\n",
    "    print(f\"Class #{i}\")\n",
    "    for query in queries_class:\n",
    "        print(query)\n",
    "    print()"
   ]
  },
  {
   "cell_type": "code",
   "execution_count": null,
   "id": "dedf8b5d-5edf-4f73-a9f9-af2830e114fb",
   "metadata": {},
   "outputs": [],
   "source": []
  }
 ],
 "metadata": {
  "kernelspec": {
   "display_name": "Python 3 (ipykernel)",
   "language": "python",
   "name": "python3"
  },
  "language_info": {
   "codemirror_mode": {
    "name": "ipython",
    "version": 3
   },
   "file_extension": ".py",
   "mimetype": "text/x-python",
   "name": "python",
   "nbconvert_exporter": "python",
   "pygments_lexer": "ipython3",
   "version": "3.7.12"
  }
 },
 "nbformat": 4,
 "nbformat_minor": 5
}
