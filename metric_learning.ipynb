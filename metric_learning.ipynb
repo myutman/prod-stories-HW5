{
 "cells": [
  {
   "cell_type": "code",
   "execution_count": 15,
   "id": "ec0081a3-70c6-4f89-beb1-909834379318",
   "metadata": {},
   "outputs": [],
   "source": [
    "import os\n",
    "import pandas as pd\n",
    "from sklearn.model_selection import train_test_split\n",
    "\n",
    "from importlib import reload\n",
    "\n",
    "import model\n",
    "import train\n",
    "import utils.data\n",
    "\n",
    "reload(utils.data)\n",
    "reload(model)\n",
    "reload(train)\n",
    "\n",
    "from model import FFN\n",
    "from train import train\n",
    "from utils.data import get_markedup_uuids, get_data_by_ids"
   ]
  },
  {
   "cell_type": "code",
   "execution_count": 2,
   "id": "8a7308d0-4532-4549-a475-0f82574fba18",
   "metadata": {},
   "outputs": [],
   "source": [
    "uuids = get_markedup_uuids()"
   ]
  },
  {
   "cell_type": "code",
   "execution_count": 3,
   "id": "1767ed37-a0c7-4c66-b73d-9813ff40ef6e",
   "metadata": {},
   "outputs": [],
   "source": [
    "train_uuids, test_uuids = train_test_split(uuids, test_size=50)\n",
    "train_uuids, valid_uuids = train_test_split(train_uuids, train_size=0.5)"
   ]
  },
  {
   "cell_type": "code",
   "execution_count": 4,
   "id": "c3a45b49-21df-4efb-8075-0bc68dd4e255",
   "metadata": {},
   "outputs": [],
   "source": [
    "df = pd.read_csv(\"classes.tsv\", sep=\"\\t\", names=[\"uuid\", \"obj_name\"], index_col=\"uuid\")\n",
    "test_df = get_data_by_ids(df, test_uuids)\n",
    "valid_df = get_data_by_ids(df, valid_uuids)\n",
    "train_df = get_data_by_ids(df, train_uuids)"
   ]
  },
  {
   "cell_type": "code",
   "execution_count": 5,
   "id": "2e05a95b-86ab-463b-acd6-e3f97fa1d0ae",
   "metadata": {},
   "outputs": [],
   "source": [
    "if not os.path.exists(\"dataset\"):\n",
    "    os.mkdir(\"dataset\")\n",
    "test_df.to_csv(\"dataset/test.tsv\", sep=\"\\t\")\n",
    "valid_df.to_csv(\"dataset/valid.tsv\", sep=\"\\t\")\n",
    "train_df.to_csv(\"dataset/train.tsv\", sep=\"\\t\")"
   ]
  },
  {
   "cell_type": "code",
   "execution_count": 9,
   "id": "00c6c5cb-a7ae-49f5-b773-415228fc305b",
   "metadata": {},
   "outputs": [],
   "source": [
    "ffn = FFN(128, 16, 4, 32)"
   ]
  },
  {
   "cell_type": "code",
   "execution_count": null,
   "id": "2734f5a4-1c7f-4f2f-ac6c-077c470eb23b",
   "metadata": {
    "tags": []
   },
   "outputs": [
    {
     "data": {
      "text/html": [
       "Finishing last run (ID:1ucz4wg8) before initializing another..."
      ],
      "text/plain": [
       "<IPython.core.display.HTML object>"
      ]
     },
     "metadata": {},
     "output_type": "display_data"
    },
    {
     "data": {
      "text/html": [
       "<br/>Waiting for W&B process to finish, PID 51198<br/>Program ended successfully."
      ],
      "text/plain": [
       "<IPython.core.display.HTML object>"
      ]
     },
     "metadata": {},
     "output_type": "display_data"
    },
    {
     "data": {
      "application/vnd.jupyter.widget-view+json": {
       "model_id": "",
       "version_major": 2,
       "version_minor": 0
      },
      "text/plain": [
       "VBox(children=(Label(value=' 0.00MB of 0.00MB uploaded (0.00MB deduped)\\r'), FloatProgress(value=1.0, max=1.0)…"
      ]
     },
     "metadata": {},
     "output_type": "display_data"
    },
    {
     "data": {
      "text/html": [
       "Find user logs for this run at: <code>/Users/myutman/Documents/HSE/prod-stories/prod-stories-HW5/wandb/run-20211030_224308-1ucz4wg8/logs/debug.log</code>"
      ],
      "text/plain": [
       "<IPython.core.display.HTML object>"
      ]
     },
     "metadata": {},
     "output_type": "display_data"
    },
    {
     "data": {
      "text/html": [
       "Find internal logs for this run at: <code>/Users/myutman/Documents/HSE/prod-stories/prod-stories-HW5/wandb/run-20211030_224308-1ucz4wg8/logs/debug-internal.log</code>"
      ],
      "text/plain": [
       "<IPython.core.display.HTML object>"
      ]
     },
     "metadata": {},
     "output_type": "display_data"
    },
    {
     "data": {
      "text/html": [
       "<h3>Run summary:</h3><br/><style>\n",
       "    table.wandb td:nth-child(1) { padding: 0 10px; text-align: right }\n",
       "    </style><table class=\"wandb\">\n",
       "<tr><td>batch/loss</td><td>0.4945</td></tr><tr><td>_runtime</td><td>21</td></tr><tr><td>_timestamp</td><td>1635623013</td></tr><tr><td>_step</td><td>94</td></tr><tr><td>epoch/train_loss</td><td>0.47864</td></tr><tr><td>epoch/valid_loss</td><td>0.49795</td></tr><tr><td>epoch/epoch</td><td>2</td></tr></table>"
      ],
      "text/plain": [
       "<IPython.core.display.HTML object>"
      ]
     },
     "metadata": {},
     "output_type": "display_data"
    },
    {
     "data": {
      "text/html": [
       "<h3>Run history:</h3><br/><style>\n",
       "    table.wandb td:nth-child(1) { padding: 0 10px; text-align: right }\n",
       "    </style><table class=\"wandb\">\n",
       "<tr><td>batch/loss</td><td>▆▆▆▄▅▄▆▃▆▄█▃▄▅▆▅▅▅▆▅▇▁▅▄▅▅█▅▄▇▆▅▄▄▆█▇▄▅▆</td></tr><tr><td>_runtime</td><td>▁▁▁▁▁▁▁▁▁▁▃▃▃▃▃▃▃▃▃▃▆▆▆▆▆▆▆▆▆▆██████████</td></tr><tr><td>_timestamp</td><td>▁▁▁▁▁▁▁▁▁▁▃▃▃▃▃▃▃▃▃▃▆▆▆▆▆▆▆▆▆▆██████████</td></tr><tr><td>_step</td><td>▁▁▁▂▂▂▂▂▂▃▃▃▃▃▃▄▄▄▄▄▅▅▅▅▅▅▆▆▆▆▆▇▇▇▇▇▇███</td></tr><tr><td>epoch/train_loss</td><td>▄█▁</td></tr><tr><td>epoch/valid_loss</td><td>▁█▅</td></tr><tr><td>epoch/epoch</td><td>▁▅█</td></tr></table><br/>"
      ],
      "text/plain": [
       "<IPython.core.display.HTML object>"
      ]
     },
     "metadata": {},
     "output_type": "display_data"
    },
    {
     "data": {
      "text/html": [
       "Synced 5 W&B file(s), 0 media file(s), 0 artifact file(s) and 0 other file(s)"
      ],
      "text/plain": [
       "<IPython.core.display.HTML object>"
      ]
     },
     "metadata": {},
     "output_type": "display_data"
    },
    {
     "data": {
      "text/html": [
       "\n",
       "                    <br/>Synced <strong style=\"color:#cdcd00\">scary-werewolf-19</strong>: <a href=\"https://wandb.ai/myutman/prod-stories-HW5/runs/1ucz4wg8\" target=\"_blank\">https://wandb.ai/myutman/prod-stories-HW5/runs/1ucz4wg8</a><br/>\n",
       "                "
      ],
      "text/plain": [
       "<IPython.core.display.HTML object>"
      ]
     },
     "metadata": {},
     "output_type": "display_data"
    },
    {
     "data": {
      "text/html": [
       "...Successfully finished last run (ID:1ucz4wg8). Initializing new run:<br/><br/>"
      ],
      "text/plain": [
       "<IPython.core.display.HTML object>"
      ]
     },
     "metadata": {},
     "output_type": "display_data"
    },
    {
     "name": "stderr",
     "output_type": "stream",
     "text": [
      "\u001b[34m\u001b[1mwandb\u001b[0m: wandb version 0.12.6 is available!  To upgrade, please run:\n",
      "\u001b[34m\u001b[1mwandb\u001b[0m:  $ pip install wandb --upgrade\n"
     ]
    },
    {
     "data": {
      "text/html": [
       "\n",
       "                Tracking run with wandb version 0.12.1<br/>\n",
       "                Syncing run <strong style=\"color:#cdcd00\">creepy-whisper-20</strong> to <a href=\"https://wandb.ai\" target=\"_blank\">Weights & Biases</a> <a href=\"https://docs.wandb.com/integrations/jupyter.html\" target=\"_blank\">(Documentation)</a>.<br/>\n",
       "                Project page: <a href=\"https://wandb.ai/myutman/prod-stories-HW5\" target=\"_blank\">https://wandb.ai/myutman/prod-stories-HW5</a><br/>\n",
       "                Run page: <a href=\"https://wandb.ai/myutman/prod-stories-HW5/runs/1bf05ove\" target=\"_blank\">https://wandb.ai/myutman/prod-stories-HW5/runs/1bf05ove</a><br/>\n",
       "                Run data is saved locally in <code>/Users/myutman/Documents/HSE/prod-stories/prod-stories-HW5/wandb/run-20211030_224351-1bf05ove</code><br/><br/>\n",
       "            "
      ],
      "text/plain": [
       "<IPython.core.display.HTML object>"
      ]
     },
     "metadata": {},
     "output_type": "display_data"
    },
    {
     "data": {
      "application/vnd.jupyter.widget-view+json": {
       "model_id": "f54ff163012241599748c3e92a2fc0d2",
       "version_major": 2,
       "version_minor": 0
      },
      "text/plain": [
       "  0%|          | 0/1000 [00:00<?, ?it/s]"
      ]
     },
     "metadata": {},
     "output_type": "display_data"
    }
   ],
   "source": [
    "train(ffn, 1000, train_df, valid_df, 8)"
   ]
  },
  {
   "cell_type": "code",
   "execution_count": null,
   "id": "0b835605-d2c3-4d25-81c7-9bc15189084d",
   "metadata": {},
   "outputs": [],
   "source": []
  }
 ],
 "metadata": {
  "kernelspec": {
   "display_name": "Python 3 (ipykernel)",
   "language": "python",
   "name": "python3"
  },
  "language_info": {
   "codemirror_mode": {
    "name": "ipython",
    "version": 3
   },
   "file_extension": ".py",
   "mimetype": "text/x-python",
   "name": "python",
   "nbconvert_exporter": "python",
   "pygments_lexer": "ipython3",
   "version": "3.7.12"
  }
 },
 "nbformat": 4,
 "nbformat_minor": 5
}
