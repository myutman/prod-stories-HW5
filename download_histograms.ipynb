{
 "cells": [
  {
   "cell_type": "code",
   "execution_count": 2,
   "id": "5ce7a04c-cb97-47f3-a145-a699a637a45b",
   "metadata": {},
   "outputs": [],
   "source": [
    "import os\n",
    "import json\n",
    "\n",
    "from tqdm.notebook import tqdm\n",
    "import pandas as pd\n",
    "\n",
    "from importlib import reload"
   ]
  },
  {
   "cell_type": "code",
   "execution_count": 3,
   "id": "1a27ee85-5de6-4e7e-ae8e-8decce02254a",
   "metadata": {},
   "outputs": [],
   "source": [
    "import utils.api\n",
    "reload(utils.api)\n",
    "from utils.api import upload_file, run_task, wait_for_task, get_results"
   ]
  },
  {
   "cell_type": "code",
   "execution_count": 4,
   "id": "65108fa9-33af-4845-b462-66f1b26785cc",
   "metadata": {},
   "outputs": [],
   "source": [
    "markedup = set([x[:-5] for x in os.listdir(\"histograms/\") if x != \".ipynb_checkpoints\"])\n",
    "df = pd.read_csv(\"classes.tsv\", sep=\"\\t\", names=[\"uuid\", \"obj_name\"])"
   ]
  },
  {
   "cell_type": "code",
   "execution_count": null,
   "id": "5aff34b8-9e1a-4be6-976c-924bfccd8453",
   "metadata": {},
   "outputs": [
    {
     "data": {
      "application/vnd.jupyter.widget-view+json": {
       "model_id": "70b8201a2f4342b1b964425bb65df57f",
       "version_major": 2,
       "version_minor": 0
      },
      "text/plain": [
       "  0%|          | 0/32000 [00:00<?, ?it/s]"
      ]
     },
     "metadata": {},
     "output_type": "display_data"
    }
   ],
   "source": [
    "for uuid in tqdm(df[\"uuid\"]):\n",
    "    if uuid not in markedup:\n",
    "        info = upload_file(os.path.join(\"models\", uuid + \".stl\"))\n",
    "        run_task(info)\n",
    "        wait_for_task()\n",
    "        results = get_results()\n",
    "        with open(os.path.join(\"histograms\", uuid + \".json\"), \"w\") as ouf:\n",
    "            json.dump(json.loads(results), ouf)"
   ]
  },
  {
   "cell_type": "code",
   "execution_count": null,
   "id": "2c702a79-8793-4c49-9d82-4c3892c3083b",
   "metadata": {},
   "outputs": [],
   "source": []
  }
 ],
 "metadata": {
  "kernelspec": {
   "display_name": "Python 3 (ipykernel)",
   "language": "python",
   "name": "python3"
  },
  "language_info": {
   "codemirror_mode": {
    "name": "ipython",
    "version": 3
   },
   "file_extension": ".py",
   "mimetype": "text/x-python",
   "name": "python",
   "nbconvert_exporter": "python",
   "pygments_lexer": "ipython3",
   "version": "3.7.12"
  }
 },
 "nbformat": 4,
 "nbformat_minor": 5
}
